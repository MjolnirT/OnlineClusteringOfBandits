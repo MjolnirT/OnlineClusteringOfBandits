{
 "cells": [
  {
   "cell_type": "code",
   "execution_count": 3,
   "metadata": {},
   "outputs": [],
   "source": [
    "import numpy as np\n",
    "from utlis import isInvertible\n",
    "import random"
   ]
  },
  {
   "cell_type": "code",
   "execution_count": 4,
   "metadata": {},
   "outputs": [],
   "source": [
    "def _beta(self, N, t):\n",
    "        return np.sqrt(self.d * np.log(1 + N / self.d) + 4 * np.log(t) + np.log(2)) + 1"
   ]
  },
  {
   "attachments": {},
   "cell_type": "markdown",
   "metadata": {},
   "source": [
    "Calculate\n",
    "$\\beta_{N,t} = \\sqrt{d \\log(1+\\frac{N}{d}) + 4\\log(t) + \\log(2)}+1$"
   ]
  },
  {
   "cell_type": "code",
   "execution_count": 3,
   "metadata": {},
   "outputs": [],
   "source": [
    "def _select_item_ucb(self, S, Sinv, theta, items, N, t):\n",
    "        return np.argmax(np.dot(items, theta) + self._beta(N, t) * (np.matmul(items, Sinv) * items).sum(axis = 1))"
   ]
  },
  {
   "attachments": {},
   "cell_type": "markdown",
   "metadata": {},
   "source": [
    "UCB rule: select arm $a$ by\n",
    "$a = \\argmax_i X \\theta + \\beta_{N,t} X S^{-1} X$"
   ]
  },
  {
   "cell_type": "code",
   "execution_count": 4,
   "metadata": {},
   "outputs": [],
   "source": [
    "def _update_inverse(self, S, b, Sinv, x, t):\n",
    "    Sinv = np.linalg.inv(S)\n",
    "    theta = np.matmul(Sinv, b)\n",
    "    return Sinv, theta"
   ]
  },
  {
   "attachments": {},
   "cell_type": "markdown",
   "metadata": {},
   "source": [
    "estimate $\\theta$ by $\\theta = S^{-1}b$"
   ]
  },
  {
   "cell_type": "code",
   "execution_count": 5,
   "metadata": {},
   "outputs": [],
   "source": [
    "class Base:\n",
    "    # Base agent for online clustering of bandits\n",
    "    def __init__(self, d, T):\n",
    "        self.d = d  # d is the dimensionality of x and theta\n",
    "        self.T = T  # Time span\n",
    "        # self.beta = np.sqrt(self.d * np.log(self.T / self.d)) # parameter for select item\n",
    "        self.rewards = np.zeros(self.T)\n",
    "        self.best_rewards = np.zeros(self.T)\n",
    "\n",
    "    def _beta(self, N, t):\n",
    "        return np.sqrt(self.d * np.log(1 + N / self.d) + 4 * np.log(t) + np.log(2)) + 1\n",
    "\n",
    "    def _select_item_ucb(self, S, Sinv, theta, items, N, t):\n",
    "        return np.argmax(np.dot(items, theta) + self._beta(N, t) * (np.matmul(items, Sinv) * items).sum(axis = 1))\n",
    "\n",
    "    # \n",
    "    def recommend(self, i, items, t):\n",
    "        # items is of type np.array (L, d)\n",
    "        # select one index from items to user i\n",
    "        return\n",
    "    \n",
    "    def store_info(self, i, x, y, t, r, br):\n",
    "        return\n",
    "    \n",
    "    def update(self, t):\n",
    "        return\n",
    "    \n",
    "    def _update_inverse(self, S, b, Sinv, x, t):\n",
    "        Sinv = np.linalg.inv(S)\n",
    "        theta = np.matmul(Sinv, b)\n",
    "        return Sinv, theta\n",
    "\n",
    "    def run(self, envir):\n",
    "        for t in range(self.T):\n",
    "            if t % 5000 == 0:\n",
    "                print(t // 5000, end = ' ')\n",
    "            self.I = envir.generate_users()\n",
    "            for i in self.I:\n",
    "                items = envir.get_items()\n",
    "                kk = self.recommend(i=i, items=items, t=t)\n",
    "                x = items[kk]\n",
    "                y, r, br = envir.feedback(i=i, k=kk)\n",
    "                self.store_info(i=i, x=x, y=y, t=t, r=r, br=br)\n",
    "\n",
    "            self.update(t)\n",
    "\n",
    "        print()"
   ]
  },
  {
   "attachments": {},
   "cell_type": "markdown",
   "metadata": {},
   "source": [
    "Q: itme matrix is a $(L,d)$ matrix. $L$ is the length of items list and $d$ is dimensionality of $x$"
   ]
  },
  {
   "cell_type": "code",
   "execution_count": null,
   "metadata": {},
   "outputs": [],
   "source": [
    "class LinUCB(Base):\n",
    "    def __init__(self, d, T):\n",
    "        super(LinUCB, self).__init__(d, T)\n",
    "        self.S = np.eye(d)          # initialize with S is identity matrix, b^1, T^1\n",
    "        self.b = np.zeros(d)\n",
    "        self.Sinv = np.eye(d)\n",
    "        self.theta = np.zeros(d)\n",
    "\n",
    "    # take the items matrix as input and the current time step t\n",
    "    def recommend(self, i, items, t):\n",
    "        return self._select_item_ucb(self.S, self.Sinv, self.theta, items, t, t)  # N = t in calculating UCB\n",
    "\n",
    "    def store_info(self, i, x, y, t, r, br):\n",
    "        self.rewards[t] += r\n",
    "        self.best_rewards[t] += br\n",
    "\n",
    "        self.S += np.outer(x, x)\n",
    "        self.b += y * x\n",
    "\n",
    "        self.Sinv, self.theta = self._update_inverse(self.S, self.b, self.Sinv, x, t) # x, t have not been used in _select_item_ucb()"
   ]
  },
  {
   "cell_type": "code",
   "execution_count": null,
   "metadata": {},
   "outputs": [],
   "source": [
    "class LinUCB_Cluster(Base):\n",
    "    def __init__(self, indexes, m, d, T):\n",
    "        super(LinUCB_Cluster, self).__init__(d, T)\n",
    "        self.indexes = indexes\n",
    "\n",
    "        # m is the number of clusters, for each cluster, use a key-value pair in the dictionary to store\n",
    "        # S, b, S-inverse and theta\n",
    "        self.S = {i:np.eye(d) for i in range(m)}\n",
    "        self.b = {i:np.zeros(d) for i in range(m)}\n",
    "        self.Sinv = {i:np.eye(d) for i in range(m)}\n",
    "        self.theta = {i:np.zeros(d) for i in range(m)}\n",
    "\n",
    "        self.N = np.zeros(m)\n",
    "\n",
    "    def recommend(self, i, items, t):\n",
    "        j = self.indexes[i] # j is the cluster index of user i\n",
    "        return self._select_item_ucb(self.S[j], self.Sinv[j], self.theta[j], items, self.N[j], t)\n",
    "\n",
    "    def store_info(self, i, x, y, t, r, br):\n",
    "        self.rewards[t] += r\n",
    "        self.best_rewards[t] += br\n",
    "\n",
    "        j = self.indexes[i]\n",
    "        self.S[j] += np.outer(x, x)\n",
    "        self.b[j] += y * x\n",
    "        self.N[j] += 1\n",
    "\n",
    "        self.Sinv[j], self.theta[j] = self._update_inverse(self.S[j], self.b[j], self.Sinv[j], x, self.N[j])"
   ]
  },
  {
   "attachments": {},
   "cell_type": "markdown",
   "metadata": {},
   "source": [
    "LinUCB_IND is the model where each user is an independent LinUCB, hence there is no clusters."
   ]
  },
  {
   "cell_type": "code",
   "execution_count": null,
   "metadata": {},
   "outputs": [],
   "source": [
    "class LinUCB_IND(Base):\n",
    "    # each user is an independent LinUCB\n",
    "    def __init__(self, nu, d, T):\n",
    "        super(LinUCB_IND, self).__init__(d, T)\n",
    "        self.S = {i:np.eye(d) for i in range(nu)}\n",
    "        self.b = {i:np.zeros(d) for i in range(nu)}\n",
    "        self.Sinv = {i:np.eye(d) for i in range(nu)}\n",
    "        self.theta = {i:np.zeros(d) for i in range(nu)}\n",
    "\n",
    "        self.N = np.zeros(nu)\n",
    "\n",
    "    def recommend(self, i, items, t): \n",
    "        return self._select_item_ucb(self.S[i], self.Sinv[i], self.theta[i], items, self.N[i], t)\n",
    "\n",
    "    def store_info(self, i, x, y, t, r, br):\n",
    "        self.rewards[t] += r\n",
    "        self.best_rewards[t] += br\n",
    "\n",
    "        self.S[i] += np.outer(x, x)\n",
    "        self.b[i] += y * x\n",
    "        self.N[i] += 1\n",
    "\n",
    "        self.Sinv[i], self.theta[i] = self._update_inverse(self.S[i], self.b[i], self.Sinv[i], x, self.N[i])"
   ]
  },
  {
   "cell_type": "code",
   "execution_count": 22,
   "metadata": {},
   "outputs": [
    {
     "data": {
      "text/plain": [
       "array([1, 0])"
      ]
     },
     "execution_count": 22,
     "metadata": {},
     "output_type": "execute_result"
    }
   ],
   "source": [
    "import numpy as np\n",
    "p = np.array([0.5, 0.5])\n",
    "X = np.random.multinomial(1,p)\n",
    "X"
   ]
  },
  {
   "cell_type": "code",
   "execution_count": 24,
   "metadata": {},
   "outputs": [
    {
     "data": {
      "text/plain": [
       "array([2, 4])"
      ]
     },
     "execution_count": 24,
     "metadata": {},
     "output_type": "execute_result"
    }
   ],
   "source": [
    "np.array([[1,1],[2,2]]).sum(axis=1)"
   ]
  },
  {
   "cell_type": "code",
   "execution_count": 25,
   "metadata": {},
   "outputs": [
    {
     "data": {
      "text/plain": [
       "array([[1.        , 1.        ],\n",
       "       [1.41421356, 1.41421356]])"
      ]
     },
     "execution_count": 25,
     "metadata": {},
     "output_type": "execute_result"
    }
   ],
   "source": [
    "np.sqrt(np.array([[1,1],[2,2]]))"
   ]
  },
  {
   "cell_type": "code",
   "execution_count": null,
   "metadata": {},
   "outputs": [],
   "source": []
  }
 ],
 "metadata": {
  "kernelspec": {
   "display_name": "Python 3",
   "language": "python",
   "name": "python3"
  },
  "language_info": {
   "codemirror_mode": {
    "name": "ipython",
    "version": 3
   },
   "file_extension": ".py",
   "mimetype": "text/x-python",
   "name": "python",
   "nbconvert_exporter": "python",
   "pygments_lexer": "ipython3",
   "version": "3.9.2"
  },
  "orig_nbformat": 4
 },
 "nbformat": 4,
 "nbformat_minor": 2
}
