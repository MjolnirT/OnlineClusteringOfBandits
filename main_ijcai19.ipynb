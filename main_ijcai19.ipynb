{
 "cells": [
  {
   "cell_type": "code",
   "execution_count": 1,
   "metadata": {},
   "outputs": [],
   "source": [
    "import numpy as np"
   ]
  },
  {
   "cell_type": "code",
   "execution_count": 3,
   "metadata": {},
   "outputs": [],
   "source": [
    "num_stages = 20\n",
    "num_users = 10000\n",
    "d = 20\n",
    "m = 10\n",
    "L = 20\n",
    "pj = 0"
   ]
  },
  {
   "cell_type": "code",
   "execution_count": 4,
   "metadata": {},
   "outputs": [],
   "source": [
    "def _get_half_frequency_vector(num_users, m):\n",
    "    p0 = list(np.random.dirichlet(np.ones(m)))\n",
    "    p = np.ones(num_users)\n",
    "    k = int(num_users / m)\n",
    "    for j in range(m):\n",
    "        for i in range(k*j, k*(j+1)):\n",
    "            p[i] = p0[j] / k\n",
    "    p = list(p)\n",
    "    return p"
   ]
  },
  {
   "cell_type": "code",
   "execution_count": 8,
   "metadata": {},
   "outputs": [
    {
     "data": {
      "text/plain": [
       "10000"
      ]
     },
     "execution_count": 8,
     "metadata": {},
     "output_type": "execute_result"
    }
   ],
   "source": [
    "p = _get_half_frequency_vector(num_users, m)\n",
    "len(p)"
   ]
  },
  {
   "cell_type": "code",
   "execution_count": 20,
   "metadata": {},
   "outputs": [
    {
     "name": "stdout",
     "output_type": "stream",
     "text": [
      "seed is 73\n",
      "reward is  1023\n",
      "Best reward is  [0.66276161 0.71341558 0.68630183 ... 0.68952768 0.77438171 0.70606232]\n",
      "run_time is  0.17465591430664062\n"
     ]
    }
   ],
   "source": [
    "info = np.load(\"linucb_uniform_nu100d20m10L20_73.npz\")\n",
    "\n",
    "seed = info['arr_0']\n",
    "rewards = len(info['arr_1'])\n",
    "best_rewards = info['arr_2']\n",
    "run_time = info['arr_3']\n",
    "\n",
    "print(\"seed is\", seed)\n",
    "print(\"reward is \" , rewards)\n",
    "print(\"Best reward is \", best_rewards)\n",
    "print(\"run_time is \", run_time)"
   ]
  },
  {
   "cell_type": "code",
   "execution_count": 21,
   "metadata": {},
   "outputs": [
    {
     "name": "stdout",
     "output_type": "stream",
     "text": [
      "seed is 73\n",
      "reward is  1023\n",
      "Best reward is  [0.66010219 0.65135577 0.66264088 ... 0.67541098 0.71196557 0.67179022]\n",
      "run_time is  0.5093135833740234\n",
      "num_clusters is  [ 1.  1.  1. ... 96. 96. 96.]\n"
     ]
    }
   ],
   "source": [
    "info = np.load(\"sclub_uniform_nu100d20m10L20_73.npz\")\n",
    "\n",
    "seed = info['arr_0']\n",
    "rewards = len(info['arr_1'])\n",
    "best_rewards = info['arr_2']\n",
    "run_time = info['arr_3']\n",
    "num_clusters = info['arr_4']\n",
    "\n",
    "print(\"seed is\", seed)\n",
    "print(\"reward is \" , rewards)\n",
    "print(\"Best reward is \", best_rewards)\n",
    "print(\"run_time is \", run_time)\n",
    "print(\"num_clusters is \", num_clusters)"
   ]
  }
 ],
 "metadata": {
  "kernelspec": {
   "display_name": "Python 3",
   "language": "python",
   "name": "python3"
  },
  "language_info": {
   "codemirror_mode": {
    "name": "ipython",
    "version": 3
   },
   "file_extension": ".py",
   "mimetype": "text/x-python",
   "name": "python",
   "nbconvert_exporter": "python",
   "pygments_lexer": "ipython3",
   "version": "3.9.2"
  },
  "orig_nbformat": 4
 },
 "nbformat": 4,
 "nbformat_minor": 2
}
