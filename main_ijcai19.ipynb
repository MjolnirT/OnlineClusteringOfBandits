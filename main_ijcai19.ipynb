{
 "cells": [
  {
   "cell_type": "code",
   "execution_count": 33,
   "metadata": {
    "ExecuteTime": {
     "start_time": "2023-04-30T15:25:18.759793Z",
     "end_time": "2023-04-30T15:25:18.773806Z"
    }
   },
   "outputs": [],
   "source": [
    "import numpy as np\n",
    "import matplotlib.pyplot as plt\n",
    "from utlis import *"
   ]
  },
  {
   "attachments": {},
   "cell_type": "markdown",
   "metadata": {},
   "source": [
    "#### Reading npz files"
   ]
  },
  {
   "cell_type": "code",
   "execution_count": 45,
   "metadata": {
    "ExecuteTime": {
     "start_time": "2023-04-30T15:28:28.716320Z",
     "end_time": "2023-04-30T15:28:28.722325Z"
    }
   },
   "outputs": [],
   "source": [
    "def draw_reward_regret(filename_list = None, print_info = True, plot_reward = False, plot_regret = True):\n",
    "    num_files = len(filename_list)\n",
    "    seed = list()\n",
    "    rewards = list()\n",
    "    best_rewards = list()\n",
    "    run_time = list()\n",
    "    regret = list()\n",
    "    for idx, filename in enumerate(filename_list) :\n",
    "        try:\n",
    "            file = np.load(filename)\n",
    "\n",
    "            seed.append(file['arr_0'])\n",
    "            rewards.append(file['arr_1']) \n",
    "            best_rewards.append(file['arr_2'])\n",
    "            run_time.append(file['arr_3'])\n",
    "            # club_num_cluster = club['arr_4']\n",
    "            regret.append(file['arr_2'] - file['arr_1'])\n",
    "\n",
    "            if(print_info):\n",
    "                output = filename.replace(\".\", \"_\")\n",
    "                print(\"Model:\", output.split('_ |')[0], \"| User distribution:\", output.split(\"_\")[1])\n",
    "                print(\"seed is\", seed[idx])\n",
    "                print(\"total steps \", len(rewards[idx]))\n",
    "                print(\"reward is \" , rewards[idx])\n",
    "                print(\"Best reward is \", best_rewards[idx])\n",
    "                print(\"Run time is \", run_time[idx])\n",
    "            # print(\"club_num_cluster is \", club_num_cluster)\n",
    "            if(plot_reward):\n",
    "                plt.plot(np.cumsum(rewards[idx]), label='rewards')\n",
    "                plt.plot(np.cumsum(best_rewards[idx]), label='best_rewards')\n",
    "                plt.title(filename.split('.npz')[0])\n",
    "                # plt.title(\"CLUB: Rewards with time iteration under the uniform setting\")\n",
    "                plt.xlabel(\"num of step\")\n",
    "                plt.ylabel(\"cumulative reward\")\n",
    "                plt.legend()\n",
    "                plt.show()\n",
    "\n",
    "            \n",
    "        except FileNotFoundError:\n",
    "            print(\"ERROR:\", filename, \" not found.\")\n",
    "\n",
    "    if(plot_regret):\n",
    "        for idx in range(num_files):\n",
    "            cum_regret = np.cumsum(regret[idx])\n",
    "            avg_regret = np.cumsum(regret[idx])/np.array(range(1,regret[idx].shape[0]+1))\n",
    "            plt.plot(cum_regret, label=filename_list[idx].split('/')[1].split('_')[0])\n",
    "\n",
    "        output = filename_list[0].replace(\".\", \"_\")\n",
    "        plt.title(\"Regrets under the \"+str(output.split('_')[1])+\" setting\")\n",
    "        plt.xlabel(\"num of stage\")\n",
    "        plt.ylabel(\"cumulative regrets\")\n",
    "        plt.legend()"
   ]
  },
  {
   "attachments": {},
   "cell_type": "markdown",
   "metadata": {},
   "source": [
    "### Using SVD to extract user features"
   ]
  },
  {
   "cell_type": "code",
   "execution_count": 46,
   "outputs": [],
   "source": [
    "filename_list = [\"club_uniform--kmeans.npz\", \"linucb_uniform--kmeans.npz\", \"linucb_ind_uniform--kmeans.npz\", \"sclub_uniform--kmeans.npz\"]\n",
    "path = \"dataset/\"\n",
    "filename_list = [path + filename for filename in filename_list]"
   ],
   "metadata": {
    "collapsed": false,
    "ExecuteTime": {
     "start_time": "2023-04-30T15:28:29.489784Z",
     "end_time": "2023-04-30T15:28:29.497791Z"
    }
   }
  },
  {
   "cell_type": "code",
   "execution_count": 47,
   "metadata": {
    "ExecuteTime": {
     "start_time": "2023-04-30T15:28:29.888146Z",
     "end_time": "2023-04-30T15:28:29.981231Z"
    }
   },
   "outputs": [
    {
     "data": {
      "text/plain": "<Figure size 432x288 with 1 Axes>",
      "image/png": "[encoded data removed]"
     },
     "metadata": {
      "needs_background": "light"
     },
     "output_type": "display_data"
    }
   ],
   "source": [
    "print_info = False\n",
    "plot_reward = False\n",
    "plot_regret = True\n",
    "draw_reward_regret(filename_list, print_info=print_info, plot_reward=plot_reward, plot_regret=plot_regret )"
   ]
  },
  {
   "cell_type": "code",
   "execution_count": null,
   "metadata": {
    "ExecuteTime": {
     "end_time": "2023-04-26T00:01:39.421356906Z",
     "start_time": "2023-04-26T00:01:36.405668427Z"
    }
   },
   "outputs": [],
   "source": [
    "filename_list = [\"club_arbitrary-.npz\", \"linucb_arbitrary-.npz\", \"ind_arbitrary-.npz\", \"sclub_arbitrary-.npz\"]\n",
    "print_info = False\n",
    "plot_reward = False\n",
    "plot_regret = True\n",
    "draw_reward_regret(filename_list, print_info=print_info, plot_reward=plot_reward, plot_regret=plot_regret )"
   ]
  },
  {
   "cell_type": "code",
   "execution_count": null,
   "metadata": {
    "ExecuteTime": {
     "end_time": "2023-04-26T00:01:42.759247513Z",
     "start_time": "2023-04-26T00:01:39.424345746Z"
    }
   },
   "outputs": [],
   "source": [
    "filename_list = [\"club_uniform-ml.npz\", \"linucb_uniform-ml.npz\", \"ind_uniform-ml.npz\", \"sclub_uniform-ml.npz\"]\n",
    "print_info = False\n",
    "plot_reward = False\n",
    "plot_regret = True\n",
    "draw_reward_regret(filename_list, print_info=print_info, plot_reward=plot_reward, plot_regret=plot_regret )"
   ]
  },
  {
   "cell_type": "code",
   "execution_count": null,
   "metadata": {
    "ExecuteTime": {
     "end_time": "2023-04-26T00:01:46.031165632Z",
     "start_time": "2023-04-26T00:01:42.754718006Z"
    }
   },
   "outputs": [],
   "source": [
    "filename_list = [\"club_arbitrary-ml.npz\", \"linucb_arbitrary-ml.npz\", \"ind_arbitrary-ml.npz\", \"sclub_arbitrary-ml.npz\"]\n",
    "print_info = False\n",
    "plot_reward = False\n",
    "plot_regret = True\n",
    "draw_reward_regret(filename_list, print_info=print_info, plot_reward=plot_reward, plot_regret=plot_regret )"
   ]
  },
  {
   "cell_type": "code",
   "execution_count": null,
   "metadata": {
    "ExecuteTime": {
     "end_time": "2023-04-26T00:01:49.106179154Z",
     "start_time": "2023-04-26T00:01:46.032254187Z"
    }
   },
   "outputs": [],
   "source": [
    "filename_list = [\"club_uniform-ye.npz\", \"linucb_uniform-ye.npz\", \"ind_uniform-ye.npz\", \"sclub_uniform-ye.npz\"]\n",
    "print_info = False\n",
    "plot_reward = False\n",
    "plot_regret = True\n",
    "draw_reward_regret(filename_list, print_info=print_info, plot_reward=plot_reward, plot_regret=plot_regret )\n",
    "# linucb is overlapped with club"
   ]
  },
  {
   "cell_type": "code",
   "execution_count": null,
   "metadata": {
    "ExecuteTime": {
     "end_time": "2023-04-26T00:01:52.344607147Z",
     "start_time": "2023-04-26T00:01:49.103569859Z"
    }
   },
   "outputs": [],
   "source": [
    "filename_list = [\"club_arbitrary-ye.npz\", \"linucb_arbitrary-ye.npz\", \"ind_arbitrary-ye.npz\", \"sclub_arbitrary-ye.npz\"]\n",
    "print_info = False\n",
    "plot_reward = False\n",
    "plot_regret = True\n",
    "draw_reward_regret(filename_list, print_info=print_info, plot_reward=plot_reward, plot_regret=plot_regret )"
   ]
  },
  {
   "attachments": {},
   "cell_type": "markdown",
   "metadata": {},
   "source": [
    "### Using Kmeans"
   ]
  },
  {
   "cell_type": "code",
   "execution_count": null,
   "metadata": {
    "ExecuteTime": {
     "end_time": "2023-04-26T00:01:55.288670318Z",
     "start_time": "2023-04-26T00:01:52.384275658Z"
    }
   },
   "outputs": [],
   "source": [
    "filename_list = [\"club_uniform-mlkmeans.npz\", \"linucb_uniform-mlkmeans.npz\", \"ind_uniform-mlkmeans.npz\", \"sclub_uniform-mlkmeans.npz\"]\n",
    "print_info = False\n",
    "plot_reward = False\n",
    "plot_regret = True\n",
    "draw_reward_regret(filename_list, print_info=print_info, plot_reward=plot_reward, plot_regret=plot_regret )"
   ]
  },
  {
   "cell_type": "code",
   "execution_count": null,
   "metadata": {
    "ExecuteTime": {
     "end_time": "2023-04-26T00:01:58.482224800Z",
     "start_time": "2023-04-26T00:01:55.293802564Z"
    }
   },
   "outputs": [],
   "source": [
    "filename_list = [\"club_arbitrary-mlkmeans.npz\", \"linucb_arbitrary-mlkmeans.npz\", \"ind_arbitrary-mlkmeans.npz\", \"sclub_arbitrary-mlkmeans.npz\"]\n",
    "print_info = False\n",
    "plot_reward = False\n",
    "plot_regret = True\n",
    "draw_reward_regret(filename_list, print_info=print_info, plot_reward=plot_reward, plot_regret=plot_regret )"
   ]
  },
  {
   "cell_type": "code",
   "execution_count": null,
   "metadata": {
    "ExecuteTime": {
     "end_time": "2023-04-26T00:02:01.553672962Z",
     "start_time": "2023-04-26T00:01:58.494372384Z"
    }
   },
   "outputs": [],
   "source": [
    "filename_list = [\"club_uniform-yekmeans.npz\", \"linucb_uniform-yekmeans.npz\", \"ind_uniform-yekmeans.npz\", \"sclub_uniform-yekmeans.npz\"]\n",
    "print_info = False\n",
    "plot_reward = False\n",
    "plot_regret = True\n",
    "draw_reward_regret(filename_list, print_info=print_info, plot_reward=plot_reward, plot_regret=plot_regret )"
   ]
  },
  {
   "cell_type": "code",
   "execution_count": null,
   "metadata": {
    "ExecuteTime": {
     "end_time": "2023-04-26T00:02:04.463035649Z",
     "start_time": "2023-04-26T00:02:01.556021760Z"
    }
   },
   "outputs": [],
   "source": [
    "filename_list = [\"club_arbitrary-yekmeans.npz\", \"linucb_arbitrary-yekmeans.npz\", \"ind_arbitrary-yekmeans.npz\", \"sclub_arbitrary-yekmeans.npz\"]\n",
    "print_info = False\n",
    "plot_reward = False\n",
    "plot_regret = True\n",
    "draw_reward_regret(filename_list, print_info=print_info, plot_reward=plot_reward, plot_regret=plot_regret )"
   ]
  },
  {
   "cell_type": "code",
   "execution_count": null,
   "outputs": [],
   "source": [],
   "metadata": {
    "collapsed": false
   }
  }
 ],
 "metadata": {
  "kernelspec": {
   "display_name": "Python 3",
   "language": "python",
   "name": "python3"
  },
  "language_info": {
   "codemirror_mode": {
    "name": "ipython",
    "version": 3
   },
   "file_extension": ".py",
   "mimetype": "text/x-python",
   "name": "python",
   "nbconvert_exporter": "python",
   "pygments_lexer": "ipython3",
   "version": "3.9.2"
  },
  "orig_nbformat": 4,
  "vscode": {
   "interpreter": {
    "hash": "916dbcbb3f70747c44a77c7bcd40155683ae19c65e1c03b4aa3499c5328201f1"
   }
  }
 },
 "nbformat": 4,
 "nbformat_minor": 2
}
